{
 "cells": [
  {
   "cell_type": "code",
   "execution_count": 94,
   "metadata": {},
   "outputs": [],
   "source": [
    "import pandas as pd\n",
    "import numpy as np"
   ]
  },
  {
   "cell_type": "code",
   "execution_count": 254,
   "metadata": {},
   "outputs": [],
   "source": [
    "full_df = pd.read_csv('/run/media/apurba/New Volume/' +'ContractOpportunitiesFullCSV.csv', engine='python')"
   ]
  },
  {
   "cell_type": "code",
   "execution_count": 255,
   "metadata": {},
   "outputs": [],
   "source": [
    "full_df['ResponseDeadLine'] = pd.to_datetime(full_df['ResponseDeadLine'],utc=True)"
   ]
  },
  {
   "cell_type": "code",
   "execution_count": 256,
   "metadata": {},
   "outputs": [],
   "source": [
    "new_df = full_df[full_df.ResponseDeadLine >= '2021-03-11'].reset_index(drop=True)"
   ]
  },
  {
   "cell_type": "code",
   "execution_count": 257,
   "metadata": {},
   "outputs": [],
   "source": [
    "df = new_df[new_df.ResponseDeadLine <= '2021-09-30'].reset_index(drop=True)"
   ]
  },
  {
   "cell_type": "code",
   "execution_count": 258,
   "metadata": {},
   "outputs": [
    {
     "data": {
      "text/plain": [
       "Index(['NoticeId', 'Title', 'Sol', 'Department/Ind.Agency', 'CGAC', 'Sub-Tier',\n",
       "       'FPDS Code', 'Office', 'AAC Code', 'PostedDate', 'Type', 'BaseType',\n",
       "       'ArchiveType', 'ArchiveDate', 'SetASideCode', 'SetASide',\n",
       "       'ResponseDeadLine', 'NaicsCode', 'ClassificationCode',\n",
       "       'PopStreetAddress', 'PopCity', 'PopState', 'PopZip', 'PopCountry',\n",
       "       'Active', 'AwardNumber', 'AwardDate', 'Award', 'Awardee',\n",
       "       'PrimaryContactTitle', 'PrimaryContactFullname', 'PrimaryContactEmail',\n",
       "       'PrimaryContactPhone', 'PrimaryContactFax', 'SecondaryContactTitle',\n",
       "       'SecondaryContactFullname', 'SecondaryContactEmail',\n",
       "       'SecondaryContactPhone', 'SecondaryContactFax', 'OrganizationType',\n",
       "       'State', 'City', 'ZipCode', 'CountryCode', 'AdditionalInfoLink', 'Link',\n",
       "       'Description'],\n",
       "      dtype='object')"
      ]
     },
     "execution_count": 258,
     "metadata": {},
     "output_type": "execute_result"
    }
   ],
   "source": [
    "df.columns"
   ]
  },
  {
   "cell_type": "code",
   "execution_count": 259,
   "metadata": {
    "scrolled": true
   },
   "outputs": [],
   "source": [
    "df.drop(['Sol','Active','ClassificationCode','SetASideCode','SetASide','PopStreetAddress','PopCity','PopState','PopZip','PopCountry','AwardNumber','AwardDate','Award','Awardee','PostedDate','BaseType','PrimaryContactTitle', 'PrimaryContactFullname', 'PrimaryContactEmail',\n",
    "       'PrimaryContactPhone', 'PrimaryContactFax', 'SecondaryContactTitle', 'SecondaryContactFullname', 'SecondaryContactEmail','SecondaryContactPhone','SecondaryContactFax','OrganizationType','State','City','ZipCode','CountryCode','AdditionalInfoLink','ArchiveType'],axis=1,inplace=True)"
   ]
  },
  {
   "cell_type": "code",
   "execution_count": 260,
   "metadata": {},
   "outputs": [
    {
     "data": {
      "text/plain": [
       "array(['Sources Sought', 'Special Notice',\n",
       "       'Combined Synopsis/Solicitation', 'Presolicitation',\n",
       "       'Solicitation', 'Award Notice', 'Sale of Surplus Property'],\n",
       "      dtype=object)"
      ]
     },
     "execution_count": 260,
     "metadata": {},
     "output_type": "execute_result"
    }
   ],
   "source": [
    "df.Type.unique()"
   ]
  },
  {
   "cell_type": "code",
   "execution_count": 261,
   "metadata": {
    "scrolled": true
   },
   "outputs": [],
   "source": [
    "inde = df[df.Type == 'Solicitation'].index.append(df[df.Type == 'Presolicitation'].index).append(df[df.Type == 'Special Notice'].index).append(df[df.Type == 'Combined Synopsis/Solicitation'].index)"
   ]
  },
  {
   "cell_type": "code",
   "execution_count": 263,
   "metadata": {},
   "outputs": [],
   "source": [
    "df = df.iloc[inde].reset_index(drop=True)"
   ]
  },
  {
   "cell_type": "code",
   "execution_count": 645,
   "metadata": {},
   "outputs": [],
   "source": [
    "index_CRM = [672,713,1345,1457,2920,4430,5348,5924,7418,1345]\n",
    "index_BSC = [2920,4204,4398,4186,4512,48,6858,6404,7073,6859]\n",
    "index_SA = [9519,4649,4449,4428,159,2259,2954,1117,4485,3893]\n",
    "index_CSD = [7600,5064,4468,4129,2464,3091,4148,4109,4204,4242]\n",
    "index_DSAA = [7474,7006,4706,3898,4477,4022,2027,6912,4010,4498]"
   ]
  },
  {
   "cell_type": "code",
   "execution_count": 660,
   "metadata": {},
   "outputs": [],
   "source": [
    "Clinical_Research_Management = pd.DataFrame(index=np.arange(0,10),columns=('Opportunity Name','Soliciting Agency','NAICS Code','FPDS Code','Response Dead Line','Notice Id'))"
   ]
  },
  {
   "cell_type": "code",
   "execution_count": 661,
   "metadata": {},
   "outputs": [],
   "source": [
    "j = 0\n",
    "for i in index_CRM:\n",
    "    Clinical_Research_Management.iloc[j] = [df.iloc[i].Title,df.iloc[i]['Department/Ind.Agency'],df.iloc[i].NaicsCode,df.iloc[i]['FPDS Code'],df.iloc[i].ResponseDeadLine,df.iloc[i].NoticeId]\n",
    "    j += 1"
   ]
  },
  {
   "cell_type": "code",
   "execution_count": 696,
   "metadata": {},
   "outputs": [],
   "source": [
    "Clinical_Research_Management.index.rename('Serial no.',inplace=True)"
   ]
  },
  {
   "cell_type": "code",
   "execution_count": 697,
   "metadata": {},
   "outputs": [],
   "source": [
    "Clinical_Research_Management.to_csv('/home/apurba/Documents/Clinical_Research_Management.csv')"
   ]
  },
  {
   "cell_type": "code",
   "execution_count": 657,
   "metadata": {},
   "outputs": [],
   "source": [
    "Bioinformatics_and_Scientific_Computing = pd.DataFrame(index=np.arange(0,10),columns=('Opportunity Name','Soliciting Agency','NAICS Code','FPDS Code','Response Dead Line','Notice Id'))"
   ]
  },
  {
   "cell_type": "code",
   "execution_count": 663,
   "metadata": {},
   "outputs": [],
   "source": [
    "j = 0\n",
    "for i in index_BSC:\n",
    "    Bioinformatics_and_Scientific_Computing.iloc[j] = [df.iloc[i].Title,df.iloc[i]['Department/Ind.Agency'],df.iloc[i].NaicsCode,df.iloc[i]['FPDS Code'],df.iloc[i].ResponseDeadLine,df.iloc[i].NoticeId]\n",
    "    j += 1"
   ]
  },
  {
   "cell_type": "code",
   "execution_count": 694,
   "metadata": {},
   "outputs": [],
   "source": [
    "Bioinformatics_and_Scientific_Computing.index.rename('Serial no.',inplace=True)"
   ]
  },
  {
   "cell_type": "code",
   "execution_count": 695,
   "metadata": {},
   "outputs": [],
   "source": [
    "Bioinformatics_and_Scientific_Computing.to_csv('/home/apurba/Documents/Bioinformatics_and_Scientific_Computing.csv')"
   ]
  },
  {
   "cell_type": "code",
   "execution_count": 666,
   "metadata": {},
   "outputs": [],
   "source": [
    "Situational_Awareness = pd.DataFrame(index=np.arange(0,10),columns=('Opportunity Name','Soliciting Agency','NAICS Code','FPDS Code','Response Dead Line','Notice Id'))"
   ]
  },
  {
   "cell_type": "code",
   "execution_count": 667,
   "metadata": {},
   "outputs": [],
   "source": [
    "j = 0\n",
    "for i in index_SA:\n",
    "    Situational_Awareness.iloc[j] = [df.iloc[i].Title,df.iloc[i]['Department/Ind.Agency'],df.iloc[i].NaicsCode,df.iloc[i]['FPDS Code'],df.iloc[i].ResponseDeadLine,df.iloc[i].NoticeId]\n",
    "    j += 1"
   ]
  },
  {
   "cell_type": "code",
   "execution_count": 692,
   "metadata": {},
   "outputs": [],
   "source": [
    "Situational_Awareness.index.rename('Serial no.',inplace=True)"
   ]
  },
  {
   "cell_type": "code",
   "execution_count": 693,
   "metadata": {},
   "outputs": [],
   "source": [
    "Situational_Awareness.to_csv('/home/apurba/Documents/Situational_Awareness.csv')"
   ]
  },
  {
   "cell_type": "code",
   "execution_count": 670,
   "metadata": {},
   "outputs": [],
   "source": [
    "Custom_Software_Development = pd.DataFrame(index=np.arange(0,10),columns=('Opportunity Name','Soliciting Agency','NAICS Code','FPDS Code','Response Dead Line','Notice Id'))"
   ]
  },
  {
   "cell_type": "code",
   "execution_count": 671,
   "metadata": {},
   "outputs": [],
   "source": [
    "j = 0\n",
    "for i in index_CSD:\n",
    "    Custom_Software_Development.iloc[j] = [df.iloc[i].Title,df.iloc[i]['Department/Ind.Agency'],df.iloc[i].NaicsCode,df.iloc[i]['FPDS Code'],df.iloc[i].ResponseDeadLine,df.iloc[i].NoticeId]\n",
    "    j += 1"
   ]
  },
  {
   "cell_type": "code",
   "execution_count": 690,
   "metadata": {},
   "outputs": [],
   "source": [
    "Custom_Software_Development.index.rename('Serial no.',inplace=True)"
   ]
  },
  {
   "cell_type": "code",
   "execution_count": 691,
   "metadata": {},
   "outputs": [],
   "source": [
    "Custom_Software_Development.to_csv('/home/apurba/Documents/Custom_Software_Development.csv')"
   ]
  },
  {
   "cell_type": "code",
   "execution_count": 674,
   "metadata": {},
   "outputs": [],
   "source": [
    "Data_Science_and_Advanced_Analytics = pd.DataFrame(index=np.arange(0,10),columns=('Opportunity Name','Soliciting Agency','NAICS Code','FPDS Code','Response Dead Line','Notice Id'))"
   ]
  },
  {
   "cell_type": "code",
   "execution_count": 675,
   "metadata": {},
   "outputs": [],
   "source": [
    "j = 0\n",
    "for i in index_CSD:\n",
    "    Data_Science_and_Advanced_Analytics.iloc[j] = [df.iloc[i].Title,df.iloc[i]['Department/Ind.Agency'],df.iloc[i].NaicsCode,df.iloc[i]['FPDS Code'],df.iloc[i].ResponseDeadLine,df.iloc[i].NoticeId]\n",
    "    j += 1"
   ]
  },
  {
   "cell_type": "code",
   "execution_count": 687,
   "metadata": {},
   "outputs": [],
   "source": [
    "Data_Science_and_Advanced_Analytics.index.rename('Serial no.',inplace=True)"
   ]
  },
  {
   "cell_type": "code",
   "execution_count": 689,
   "metadata": {},
   "outputs": [],
   "source": [
    "Data_Science_and_Advanced_Analytics.to_csv('/home/apurba/Documents/Data_Science_and_Advanced_Analytics.csv')"
   ]
  },
  {
   "cell_type": "code",
   "execution_count": null,
   "metadata": {},
   "outputs": [],
   "source": []
  }
 ],
 "metadata": {
  "kernelspec": {
   "display_name": "Python 3",
   "language": "python",
   "name": "python3"
  },
  "language_info": {
   "codemirror_mode": {
    "name": "ipython",
    "version": 3
   },
   "file_extension": ".py",
   "mimetype": "text/x-python",
   "name": "python",
   "nbconvert_exporter": "python",
   "pygments_lexer": "ipython3",
   "version": "3.9.2"
  }
 },
 "nbformat": 4,
 "nbformat_minor": 4
}
